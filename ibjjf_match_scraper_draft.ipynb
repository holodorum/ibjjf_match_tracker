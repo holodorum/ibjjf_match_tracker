{
 "cells": [
  {
   "cell_type": "code",
   "execution_count": 29,
   "metadata": {},
   "outputs": [],
   "source": [
    "from bs4 import BeautifulSoup\n",
    "import requests\n",
    "import regex as re\n",
    "import json\n",
    "import pandas as pd"
   ]
  },
  {
   "cell_type": "code",
   "execution_count": 30,
   "metadata": {},
   "outputs": [],
   "source": [
    "#Load Home Page\n",
    "home_comp_page = requests.get(\"https://www.bjjcompsystem.com/tournaments/1922/tournament_days/2409\")\n",
    "assert(home_comp_page.status_code==200)\n",
    "\n",
    "\n"
   ]
  },
  {
   "cell_type": "code",
   "execution_count": 31,
   "metadata": {},
   "outputs": [],
   "source": [
    "#Parse With Beautifulsoup\n",
    "home_comp_soup = BeautifulSoup(home_comp_page.content, 'html.parser')"
   ]
  },
  {
   "cell_type": "code",
   "execution_count": 32,
   "metadata": {},
   "outputs": [],
   "source": [
    "home_comp_soup.find('form', class_='tournament-day__competitor-filter')\n",
    "assert(len(home_comp_soup.find_all('form', class_='tournament-day__competitor-filter'))==1) #Assert that we can use find instead of find_all"
   ]
  },
  {
   "cell_type": "code",
   "execution_count": 33,
   "metadata": {},
   "outputs": [],
   "source": [
    "home_comp_id_raw = home_comp_soup.find_all(attrs={\"data-react-class\":\"search_field/search_field\"})[2]['data-react-props']\n",
    "# dict(competitor_id_raw)\n",
    "home_comp_id_dict = json.loads(home_comp_id_raw)\n"
   ]
  },
  {
   "cell_type": "code",
   "execution_count": 34,
   "metadata": {},
   "outputs": [],
   "source": [
    "competition_id = home_comp_id_dict['tournament_id']\n",
    "competitors_id = pd.DataFrame(json.loads(home_comp_id_dict['competitors']))#Creates DataFrame with Competitor id and corresponding Name"
   ]
  },
  {
   "cell_type": "code",
   "execution_count": 56,
   "metadata": {},
   "outputs": [],
   "source": [
    "athlete_id = str(148693)\n",
    "athlete_comp_page_link = \"https://www.bjjcompsystem.com/tournaments/1922/tournament_days/by_competitor?competitor_id=\"+athlete_id\n",
    "athlete_comp_page = requests.get(athlete_comp_page_link)\n",
    "assert(athlete_comp_page.status_code==200)\n",
    "athlete_comp_soup = BeautifulSoup(athlete_comp_page.content, 'html.parser')\n"
   ]
  },
  {
   "cell_type": "code",
   "execution_count": 57,
   "metadata": {},
   "outputs": [
    {
     "data": {
      "text/plain": [
       "1"
      ]
     },
     "execution_count": 57,
     "metadata": {},
     "output_type": "execute_result"
    }
   ],
   "source": [
    "competitors_id[competitors_id['name']=='Aaron Cole Ryan'].shape[0]\n",
    "\n",
    "\n"
   ]
  },
  {
   "cell_type": "code",
   "execution_count": 58,
   "metadata": {},
   "outputs": [
    {
     "ename": "NameError",
     "evalue": "name 'match_assigned' is not defined",
     "output_type": "error",
     "traceback": [
      "\u001b[0;31m---------------------------------------------------------------------------\u001b[0m",
      "\u001b[0;31mNameError\u001b[0m                                 Traceback (most recent call last)",
      "Cell \u001b[0;32mIn[58], line 1\u001b[0m\n\u001b[0;32m----> 1\u001b[0m match_assigned[\u001b[39m0\u001b[39m]\u001b[39m.\u001b[39mfind_all(class_\u001b[39m=\u001b[39m\u001b[39m\"\u001b[39m\u001b[39mmatch-card__competitor-name\u001b[39m\u001b[39m\"\u001b[39m)\n\u001b[1;32m      2\u001b[0m \u001b[39mfor\u001b[39;00m opponent \u001b[39min\u001b[39;00m match_assigned[\u001b[39m0\u001b[39m]\u001b[39m.\u001b[39mfind_all(class_\u001b[39m=\u001b[39m\u001b[39m\"\u001b[39m\u001b[39mmatch-card__competitor-name\u001b[39m\u001b[39m\"\u001b[39m):\n\u001b[1;32m      3\u001b[0m     \u001b[39mif\u001b[39;00m opponent\u001b[39m.\u001b[39mget_text() \u001b[39m==\u001b[39m athlete_comp_soup\u001b[39m.\u001b[39mh1\u001b[39m.\u001b[39mget_text(): \n",
      "\u001b[0;31mNameError\u001b[0m: name 'match_assigned' is not defined"
     ]
    }
   ],
   "source": [
    "match_assigned[0].find_all(class_=\"match-card__competitor-name\")\n",
    "for opponent in match_assigned[0].find_all(class_=\"match-card__competitor-name\"):\n",
    "    if opponent.get_text() == athlete_comp_soup.h1.get_text(): \n",
    "        pass\n"
   ]
  },
  {
   "cell_type": "code",
   "execution_count": 71,
   "metadata": {},
   "outputs": [
    {
     "data": {
      "text/plain": [
       "[{<li class=\"match--created\">\n",
       "  <div class=\"tournament-day__category-name\">\n",
       "  <a href=\"/tournaments/1922/categories/2086951\">Master 4 / Male / BLACK / Middle</a>\n",
       "  </div>\n",
       "  <div class=\"search-match-header\">\n",
       "  <span class=\"search-match-header__when\">Sat 12/10 at <b>01:17 PM</b></span>\n",
       "  <span class=\"search-match-header__where\">- <b>Mat 12:</b> Fight 17 - Final </span>\n",
       "  </div>\n",
       "  <div class=\"match-card match-card--blue\">\n",
       "  <div class=\"match-card__competitor match-card__competitor--red\" id=\"competitor-3008570\">\n",
       "  <span class=\"match-card__child-description\">\n",
       "  <div class=\"match-card__child-where\">Winner of Fight 14, Mat 12</div>\n",
       "  <div class=\"match-card__child-where\">-</div>\n",
       "  </span>\n",
       "  </div>\n",
       "  <hr/>\n",
       "  <div class=\"match-card__competitor\" id=\"competitor-3008571\">\n",
       "  <span class=\"match-card__child-description\">\n",
       "  <div class=\"match-card__child-where\">Winner of Fight 13, Mat 12</div>\n",
       "  <div class=\"match-card__child-where\">-</div>\n",
       "  </span>\n",
       "  </div>\n",
       "  </div>\n",
       "  </li>,\n",
       "  <li class=\"match--created\">\n",
       "  <div class=\"tournament-day__category-name\">\n",
       "  <a href=\"/tournaments/1922/categories/2086951\">Master 4 / Male / BLACK / Middle</a>\n",
       "  </div>\n",
       "  <div class=\"search-match-header\">\n",
       "  <span class=\"search-match-header__when\">Sat 12/10 at <b>12:07 PM</b></span>\n",
       "  <span class=\"search-match-header__where\">- <b>Mat 12:</b> Fight 7 - Quarter Final </span>\n",
       "  </div>\n",
       "  <div class=\"match-card match-card--blue\">\n",
       "  <div class=\"match-card__competitor match-card__competitor--red\" id=\"competitor-3008582\">\n",
       "  <span class=\"match-card__child-description\">\n",
       "  <div class=\"match-card__child-where\">Winner of Fight 3, Mat 12</div>\n",
       "  <div class=\"match-card__child-where\">-</div>\n",
       "  </span>\n",
       "  </div>\n",
       "  <hr/>\n",
       "  <div class=\"match-card__competitor\" id=\"competitor-3008583\">\n",
       "  <span class=\"match-card__child-description\">\n",
       "  <div class=\"match-card__child-where\">Winner of Fight 2, Mat 12</div>\n",
       "  <div class=\"match-card__child-where\">-</div>\n",
       "  </span>\n",
       "  </div>\n",
       "  </div>\n",
       "  </li>,\n",
       "  <li class=\"match--created\">\n",
       "  <div class=\"tournament-day__category-name\">\n",
       "  <a href=\"/tournaments/1922/categories/2086951\">Master 4 / Male / BLACK / Middle</a>\n",
       "  </div>\n",
       "  <div class=\"search-match-header\">\n",
       "  <span class=\"search-match-header__when\">Sat 12/10 at <b>12:49 PM</b></span>\n",
       "  <span class=\"search-match-header__where\">- <b>Mat 12:</b> Fight 13 - Semi-Final </span>\n",
       "  </div>\n",
       "  <div class=\"match-card match-card--blue\">\n",
       "  <div class=\"match-card__competitor match-card__competitor--red\" id=\"competitor-3008574\">\n",
       "  <span class=\"match-card__child-description\">\n",
       "  <div class=\"match-card__child-where\">Winner of Fight 8, Mat 12</div>\n",
       "  <div class=\"match-card__child-where\">-</div>\n",
       "  </span>\n",
       "  </div>\n",
       "  <hr/>\n",
       "  <div class=\"match-card__competitor\" id=\"competitor-3008575\">\n",
       "  <span class=\"match-card__child-description\">\n",
       "  <div class=\"match-card__child-where\">Winner of Fight 7, Mat 12</div>\n",
       "  <div class=\"match-card__child-where\">-</div>\n",
       "  </span>\n",
       "  </div>\n",
       "  </div>\n",
       "  </li>}]"
      ]
     },
     "execution_count": 71,
     "metadata": {},
     "output_type": "execute_result"
    }
   ],
   "source": [
    "test = athlete_comp_soup.find_all('li', class_='match--created')\n",
    "# test.find_all(class_= 'match-card__child-where')\n",
    "\n",
    "len(list(set(test)))\n",
    "\n",
    "[set(test)]\n"
   ]
  },
  {
   "cell_type": "code",
   "execution_count": 59,
   "metadata": {},
   "outputs": [
    {
     "ename": "AttributeError",
     "evalue": "ResultSet object has no attribute 'get_text'. You're probably treating a list of elements like a single element. Did you call find_all() when you meant to call find()?",
     "output_type": "error",
     "traceback": [
      "\u001b[0;31m---------------------------------------------------------------------------\u001b[0m",
      "\u001b[0;31mAttributeError\u001b[0m                            Traceback (most recent call last)",
      "Cell \u001b[0;32mIn[59], line 11\u001b[0m\n\u001b[1;32m      9\u001b[0m match_opponent \u001b[39m=\u001b[39m match\u001b[39m.\u001b[39mfind_all(class_\u001b[39m=\u001b[39m\u001b[39m\"\u001b[39m\u001b[39mmatch-card__competitor-name\u001b[39m\u001b[39m\"\u001b[39m)\n\u001b[1;32m     10\u001b[0m \u001b[39mfor\u001b[39;00m opponent \u001b[39min\u001b[39;00m match_opponent:\n\u001b[0;32m---> 11\u001b[0m     \u001b[39mif\u001b[39;00m match_opponent\u001b[39m.\u001b[39;49mget_text() \u001b[39m==\u001b[39m name:\n\u001b[1;32m     12\u001b[0m         \u001b[39mpass\u001b[39;00m\n\u001b[1;32m     13\u001b[0m     \u001b[39melse\u001b[39;00m:\n",
      "File \u001b[0;32m~/.virtualenvs/venv_scraper/lib/python3.10/site-packages/bs4/element.py:2289\u001b[0m, in \u001b[0;36mResultSet.__getattr__\u001b[0;34m(self, key)\u001b[0m\n\u001b[1;32m   2287\u001b[0m \u001b[39mdef\u001b[39;00m \u001b[39m__getattr__\u001b[39m(\u001b[39mself\u001b[39m, key):\n\u001b[1;32m   2288\u001b[0m     \u001b[39m\"\"\"Raise a helpful exception to explain a common code fix.\"\"\"\u001b[39;00m\n\u001b[0;32m-> 2289\u001b[0m     \u001b[39mraise\u001b[39;00m \u001b[39mAttributeError\u001b[39;00m(\n\u001b[1;32m   2290\u001b[0m         \u001b[39m\"\u001b[39m\u001b[39mResultSet object has no attribute \u001b[39m\u001b[39m'\u001b[39m\u001b[39m%s\u001b[39;00m\u001b[39m'\u001b[39m\u001b[39m. You\u001b[39m\u001b[39m'\u001b[39m\u001b[39mre probably treating a list of elements like a single element. Did you call find_all() when you meant to call find()?\u001b[39m\u001b[39m\"\u001b[39m \u001b[39m%\u001b[39m key\n\u001b[1;32m   2291\u001b[0m     )\n",
      "\u001b[0;31mAttributeError\u001b[0m: ResultSet object has no attribute 'get_text'. You're probably treating a list of elements like a single element. Did you call find_all() when you meant to call find()?"
     ]
    }
   ],
   "source": [
    "name = athlete_comp_soup.h1.get_text()\n",
    "match_assigned = athlete_comp_soup.find_all('li', class_='match--assigned')\n",
    "\n",
    "match_upcoming = athlete_comp_soup.find_all('li', class_='match--created')\n",
    "\n",
    "for match in match_assigned:\n",
    "    match_when = match.find(class_=\"search-match-header__when\").get_text()\n",
    "    match_where = match.find(class_=\"search-match-header__where\").b.get_text()\n",
    "    match_opponent = match.find_all(class_=\"match-card__competitor-name\")\n",
    "    for opponent in match_opponent:\n",
    "        if match_opponent.get_text() == name:\n",
    "            pass\n",
    "        else:\n",
    "            match_opponent = opponent \n",
    "\n"
   ]
  }
 ],
 "metadata": {
  "kernelspec": {
   "display_name": "Python 3 (ipykernel)",
   "language": "python",
   "name": "python3"
  },
  "language_info": {
   "codemirror_mode": {
    "name": "ipython",
    "version": 3
   },
   "file_extension": ".py",
   "mimetype": "text/x-python",
   "name": "python",
   "nbconvert_exporter": "python",
   "pygments_lexer": "ipython3",
   "version": "3.10.8"
  },
  "orig_nbformat": 4
 },
 "nbformat": 4,
 "nbformat_minor": 2
}
