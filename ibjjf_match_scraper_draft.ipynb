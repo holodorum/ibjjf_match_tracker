{
 "cells": [
  {
   "cell_type": "code",
   "execution_count": 29,
   "metadata": {},
   "outputs": [],
   "source": [
    "from bs4 import BeautifulSoup\n",
    "import requests\n",
    "import regex as re\n",
    "import json\n",
    "import pandas as pd"
   ]
  },
  {
   "cell_type": "code",
   "execution_count": 30,
   "metadata": {},
   "outputs": [],
   "source": [
    "#Load Home Page\n",
    "home_comp_page = requests.get(\"https://www.bjjcompsystem.com/tournaments/1922/tournament_days/2409\")\n",
    "assert(home_comp_page.status_code==200)\n",
    "\n",
    "\n"
   ]
  },
  {
   "cell_type": "code",
   "execution_count": 31,
   "metadata": {},
   "outputs": [],
   "source": [
    "#Parse With Beautifulsoup\n",
    "home_comp_soup = BeautifulSoup(home_comp_page.content, 'html.parser')"
   ]
  },
  {
   "cell_type": "code",
   "execution_count": 32,
   "metadata": {},
   "outputs": [],
   "source": [
    "home_comp_soup.find('form', class_='tournament-day__competitor-filter')\n",
    "assert(len(home_comp_soup.find_all('form', class_='tournament-day__competitor-filter'))==1) #Assert that we can use find instead of find_all"
   ]
  },
  {
   "cell_type": "code",
   "execution_count": 33,
   "metadata": {},
   "outputs": [],
   "source": [
    "home_comp_id_raw = home_comp_soup.find_all(attrs={\"data-react-class\":\"search_field/search_field\"})[2]['data-react-props']\n",
    "# dict(competitor_id_raw)\n",
    "home_comp_id_dict = json.loads(home_comp_id_raw)\n"
   ]
  },
  {
   "cell_type": "code",
   "execution_count": 34,
   "metadata": {},
   "outputs": [],
   "source": [
    "competition_id = home_comp_id_dict['tournament_id']\n",
    "competitors_id = pd.DataFrame(json.loads(home_comp_id_dict['competitors']))#Creates DataFrame with Competitor id and corresponding Name"
   ]
  },
  {
   "cell_type": "code",
   "execution_count": 36,
   "metadata": {},
   "outputs": [],
   "source": [
    "athlete_id = str(148693)\n",
    "athlete_comp_page_link = \"https://www.bjjcompsystem.com/tournaments/1922/tournament_days/by_competitor?competitor_id=\"+athlete_id\n",
    "athlete_comp_page = requests.get(athlete_comp_page_link)\n",
    "assert(athlete_comp_page.status_code==200)\n",
    "athlete_comp_soup = BeautifulSoup(athlete_comp_page.content, 'html.parser')\n"
   ]
  },
  {
   "cell_type": "code",
   "execution_count": 37,
   "metadata": {},
   "outputs": [
    {
     "data": {
      "text/plain": [
       "1"
      ]
     },
     "execution_count": 37,
     "metadata": {},
     "output_type": "execute_result"
    }
   ],
   "source": [
    "competitors_id[competitors_id['name']=='Aaron Cole Ryan'].shape[0]\n",
    "\n",
    "\n"
   ]
  },
  {
   "cell_type": "code",
   "execution_count": 39,
   "metadata": {},
   "outputs": [
    {
     "ename": "NameError",
     "evalue": "name 'match_assigned' is not defined",
     "output_type": "error",
     "traceback": [
      "\u001b[0;31m---------------------------------------------------------------------------\u001b[0m",
      "\u001b[0;31mNameError\u001b[0m                                 Traceback (most recent call last)",
      "Cell \u001b[0;32mIn[39], line 1\u001b[0m\n\u001b[0;32m----> 1\u001b[0m match_assigned[\u001b[39m0\u001b[39m]\u001b[39m.\u001b[39mfind_all(class_\u001b[39m=\u001b[39m\u001b[39m\"\u001b[39m\u001b[39mmatch-card__competitor-name\u001b[39m\u001b[39m\"\u001b[39m)\n\u001b[1;32m      2\u001b[0m \u001b[39mfor\u001b[39;00m opponent \u001b[39min\u001b[39;00m match_assigned[\u001b[39m0\u001b[39m]\u001b[39m.\u001b[39mfind_all(class_\u001b[39m=\u001b[39m\u001b[39m\"\u001b[39m\u001b[39mmatch-card__competitor-name\u001b[39m\u001b[39m\"\u001b[39m):\n\u001b[1;32m      3\u001b[0m     \u001b[39mif\u001b[39;00m opponent\u001b[39m.\u001b[39mget_text() \u001b[39m==\u001b[39m athlete_comp_soup\u001b[39m.\u001b[39mh1\u001b[39m.\u001b[39mget_text():\n",
      "\u001b[0;31mNameError\u001b[0m: name 'match_assigned' is not defined"
     ]
    }
   ],
   "source": [
    "match_assigned[0].find_all(class_=\"match-card__competitor-name\")\n",
    "for opponent in match_assigned[0].find_all(class_=\"match-card__competitor-name\"):\n",
    "    if opponent.get_text() == athlete_comp_soup.h1.get_text():\n",
    "        pass\n"
   ]
  },
  {
   "cell_type": "code",
   "execution_count": 53,
   "metadata": {},
   "outputs": [
    {
     "data": {
      "text/plain": [
       "[<div class=\"match-card__child-where\">Winner of Fight 3, Mat 12</div>,\n",
       " <div class=\"match-card__child-where\">-</div>,\n",
       " <div class=\"match-card__child-where\">Winner of Fight 2, Mat 12</div>,\n",
       " <div class=\"match-card__child-where\">-</div>]"
      ]
     },
     "execution_count": 53,
     "metadata": {},
     "output_type": "execute_result"
    }
   ],
   "source": [
    "test = athlete_comp_soup.find_all('li', class_='match--created')[0]\n",
    "test.find_all(class_= 'match-card__child-where')\n",
    "\n",
    "\n",
    "\n",
    "\n"
   ]
  },
  {
   "cell_type": "code",
   "execution_count": null,
   "metadata": {},
   "outputs": [
    {
     "name": "stdout",
     "output_type": "stream",
     "text": [
      "<li class=\"match--assigned\">\n",
      "<div class=\"tournament-day__category-name\">\n",
      "<a href=\"/tournaments/1922/categories/2086951\">Master 4 / Male / BLACK / Middle</a>\n",
      "</div>\n",
      "<div class=\"search-match-header\">\n",
      "<span class=\"search-match-header__when\">Sat 12/10 at <b>11:32 AM</b></span>\n",
      "<span class=\"search-match-header__where\">- <b>Mat 12:</b> Fight 2 - Qualifiers 1</span>\n",
      "</div>\n",
      "<div class=\"match-card match-card--blue\">\n",
      "<div class=\"match-card__competitor match-card__competitor--red\" id=\"competitor-43323\">\n",
      "<span class=\"match-card__competitor-n\">4</span>\n",
      "<span class=\"match-card__competitor-description\">\n",
      "<div class=\"match-card__competitor-name\">Jaimeson John Filer</div>\n",
      "<div class=\"match-card__club-name\">Foster Brazilian Jiu-Jitsu</div>\n",
      "</span>\n",
      "</div>\n",
      "<hr/>\n",
      "<div class=\"match-card__competitor\" id=\"competitor-148693\">\n",
      "<span class=\"match-card__competitor-n\">13</span>\n",
      "<span class=\"match-card__competitor-description\">\n",
      "<div class=\"match-card__competitor-name\">Aaron Randall Martin</div>\n",
      "<div class=\"match-card__club-name\">Carlson Gracie Team</div>\n",
      "</span>\n",
      "</div>\n",
      "</div>\n",
      "</li>\n",
      "<li class=\"match--assigned\">\n",
      "<div class=\"tournament-day__category-name\">\n",
      "<a href=\"/tournaments/1922/categories/2086951\">Master 4 / Male / BLACK / Middle</a>\n",
      "</div>\n",
      "<div class=\"search-match-header\">\n",
      "<span class=\"search-match-header__when\">Sat 12/10 at <b>11:32 AM</b></span>\n",
      "<span class=\"search-match-header__where\">- <b>Mat 12:</b> Fight 2 - Qualifiers 1</span>\n",
      "</div>\n",
      "<div class=\"match-card match-card--blue\">\n",
      "<div class=\"match-card__competitor match-card__competitor--red\" id=\"competitor-43323\">\n",
      "<span class=\"match-card__competitor-n\">4</span>\n",
      "<span class=\"match-card__competitor-description\">\n",
      "<div class=\"match-card__competitor-name\">Jaimeson John Filer</div>\n",
      "<div class=\"match-card__club-name\">Foster Brazilian Jiu-Jitsu</div>\n",
      "</span>\n",
      "</div>\n",
      "<hr/>\n",
      "<div class=\"match-card__competitor\" id=\"competitor-148693\">\n",
      "<span class=\"match-card__competitor-n\">13</span>\n",
      "<span class=\"match-card__competitor-description\">\n",
      "<div class=\"match-card__competitor-name\">Aaron Randall Martin</div>\n",
      "<div class=\"match-card__club-name\">Carlson Gracie Team</div>\n",
      "</span>\n",
      "</div>\n",
      "</div>\n",
      "</li>\n"
     ]
    }
   ],
   "source": [
    "name = athlete_comp_soup.h1.get_text()\n",
    "match_assigned = athlete_comp_soup.find_all('li', class_='match--assigned')\n",
    "match_upcoming = athlete_comp_soup.find_all('li', class_='match--created')\n",
    "\n",
    "for match in match_assigned:\n",
    "    match_when = match.find(class_=\"search-match-header__when\").get_text()\n",
    "    match_where = match.find(class_=\"search-match-header__where\").b.get_text()\n",
    "    match_opponent = match.find_all(class_=\"match-card__competitor-name\")\n",
    "    for opponent in match_opponent:\n",
    "        if match_opponent.get_text() == name:\n",
    "            pass\n",
    "        else:\n",
    "            match_opponent = opponent \n",
    "\n"
   ]
  }
 ],
 "metadata": {
  "kernelspec": {
   "display_name": "Python 3 (ipykernel)",
   "language": "python",
   "name": "python3"
  },
  "language_info": {
   "codemirror_mode": {
    "name": "ipython",
    "version": 3
   },
   "file_extension": ".py",
   "mimetype": "text/x-python",
   "name": "python",
   "nbconvert_exporter": "python",
   "pygments_lexer": "ipython3",
   "version": "3.10.8"
  },
  "orig_nbformat": 4
 },
 "nbformat": 4,
 "nbformat_minor": 2
}
